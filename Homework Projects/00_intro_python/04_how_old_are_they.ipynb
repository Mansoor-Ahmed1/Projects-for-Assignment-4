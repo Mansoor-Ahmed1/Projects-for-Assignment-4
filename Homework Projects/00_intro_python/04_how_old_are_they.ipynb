{
 "cells": [
  {
   "cell_type": "markdown",
   "id": "29d8f54f",
   "metadata": {},
   "source": [
    "Write a program to solve this age-related riddle!\n",
    "\n",
    "Anton, Beth, Chen, Drew, and Ethan are all friends. Their ages are as follows:\n",
    "\n",
    "Anton is 21 years old.\n",
    "\n",
    "Beth is 6 years older than Anton.\n",
    "\n",
    "Chen is 20 years older than Beth.\n",
    "\n",
    "Drew is as old as Chen's age plus Anton's age.\n",
    "\n",
    "Ethan is the same age as Chen."
   ]
  },
  {
   "cell_type": "code",
   "execution_count": 6,
   "id": "c4d0366a",
   "metadata": {},
   "outputs": [
    {
     "name": "stdout",
     "output_type": "stream",
     "text": [
      "Anton is 21 years old.\n",
      "Beth is 27 years old.\n",
      "Chen is 47 years old.\n",
      "Drew is 68 years old.\n",
      "Ethan is 47 years old.\n"
     ]
    }
   ],
   "source": [
    "def main():\n",
    "    Anton = 21\n",
    "    Beth = Anton + 6\n",
    "    Chen = Beth + 20\n",
    "    Drew = Chen + Anton\n",
    "    Ethan = Chen\n",
    "\n",
    "    print(f\"Anton is {Anton} years old.\")\n",
    "    print(f\"Beth is {Beth} years old.\")\n",
    "    print(f\"Chen is {Chen} years old.\")\n",
    "    print(f\"Drew is {Drew} years old.\")\n",
    "    print(f\"Ethan is {Ethan} years old.\")\n",
    "\n",
    "if __name__ == \"__main__\":\n",
    "    main()"
   ]
  }
 ],
 "metadata": {
  "kernelspec": {
   "display_name": "Python 3",
   "language": "python",
   "name": "python3"
  },
  "language_info": {
   "codemirror_mode": {
    "name": "ipython",
    "version": 3
   },
   "file_extension": ".py",
   "mimetype": "text/x-python",
   "name": "python",
   "nbconvert_exporter": "python",
   "pygments_lexer": "ipython3",
   "version": "3.13.3"
  }
 },
 "nbformat": 4,
 "nbformat_minor": 5
}
