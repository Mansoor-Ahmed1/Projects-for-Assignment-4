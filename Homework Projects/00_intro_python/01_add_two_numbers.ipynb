{
 "cells": [
  {
   "cell_type": "markdown",
   "id": "d139abe5",
   "metadata": {},
   "source": [
    "Write a Python program that takes two integer inputs from the user and calculates their sum. The program should perform the following tasks:\n",
    "\n",
    "Prompt the user to enter the first number.\n",
    "\n",
    "Read the input and convert it to an integer.\n",
    "\n",
    "Prompt the user to enter the second number.\n",
    "\n",
    "Read the input and convert it to an integer.\n",
    "\n",
    "Calculate the sum of the two numbers.\n",
    "\n",
    "Print the total sum with an appropriate message."
   ]
  },
  {
   "cell_type": "code",
   "execution_count": 6,
   "id": "931e8fd9",
   "metadata": {},
   "outputs": [
    {
     "name": "stdout",
     "output_type": "stream",
     "text": [
      "The total is 57.\n"
     ]
    }
   ],
   "source": [
    "def main(num1,num2):\n",
    "    total : int = num1 + num2\n",
    "    print(f\"The total is {total}.\")\n",
    "\n",
    "num1: int = input(\"Enter first number: \")\n",
    "num2: int = input(\"Enter second number: \")\n",
    "num1_int = int(num1)\n",
    "num2_int = int(num2)\n",
    "\n",
    "if __name__ == '__main__':\n",
    "    main(num1_int, num2_int)"
   ]
  }
 ],
 "metadata": {
  "kernelspec": {
   "display_name": "Python 3",
   "language": "python",
   "name": "python3"
  },
  "language_info": {
   "codemirror_mode": {
    "name": "ipython",
    "version": 3
   },
   "file_extension": ".py",
   "mimetype": "text/x-python",
   "name": "python",
   "nbconvert_exporter": "python",
   "pygments_lexer": "ipython3",
   "version": "3.13.3"
  }
 },
 "nbformat": 4,
 "nbformat_minor": 5
}
