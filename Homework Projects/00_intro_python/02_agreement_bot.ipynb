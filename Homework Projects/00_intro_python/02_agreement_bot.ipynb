{
 "cells": [
  {
   "cell_type": "markdown",
   "id": "cd4ce090",
   "metadata": {},
   "source": [
    "Write a program which asks the user what their favorite animal is, and then always responds with \"My favorite animal is also ___!\" (the blank should be filled in with the user-inputted animal, of course)."
   ]
  },
  {
   "cell_type": "code",
   "execution_count": 2,
   "id": "786934d3",
   "metadata": {},
   "outputs": [
    {
     "name": "stdout",
     "output_type": "stream",
     "text": [
      "Ironically, My Favourite Animal is ant as well!\n"
     ]
    }
   ],
   "source": [
    "def main(animal):\n",
    "    print(f\"Ironically, My Favourite Animal is {animal} as well!\")\n",
    "\n",
    "animal = input(\"Enter your Favourite Animal:\")\n",
    "if __name__ == '__main__':\n",
    "    main(animal)"
   ]
  }
 ],
 "metadata": {
  "kernelspec": {
   "display_name": "Python 3",
   "language": "python",
   "name": "python3"
  },
  "language_info": {
   "codemirror_mode": {
    "name": "ipython",
    "version": 3
   },
   "file_extension": ".py",
   "mimetype": "text/x-python",
   "name": "python",
   "nbconvert_exporter": "python",
   "pygments_lexer": "ipython3",
   "version": "3.13.3"
  }
 },
 "nbformat": 4,
 "nbformat_minor": 5
}
