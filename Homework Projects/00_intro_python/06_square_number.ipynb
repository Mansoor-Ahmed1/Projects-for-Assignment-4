{
 "cells": [
  {
   "cell_type": "markdown",
   "id": "a6892357",
   "metadata": {},
   "source": [
    "### Problem Statement\n",
    "\n",
    "Ask the user for a number and print its square (the product of the number times itself).\n",
    "\n",
    "Here's a sample run of the program (user input is in bold italics):\n",
    "\n",
    "Type a number to see its square: 4\n",
    "\n",
    "4.0 squared is 16.0"
   ]
  },
  {
   "cell_type": "code",
   "execution_count": 3,
   "id": "b0a9b8d0",
   "metadata": {},
   "outputs": [
    {
     "name": "stdout",
     "output_type": "stream",
     "text": [
      "9 squared is 81\n"
     ]
    }
   ],
   "source": [
    "def main(num):\n",
    "    result = num*num\n",
    "    print(f\"{num} squared is {result}\")\n",
    "\n",
    "input_number = input(\"Please enter the number who you'd like to be squared:\")\n",
    "input_number_int = int(input_number)\n",
    "\n",
    "if __name__ == \"__main__\":\n",
    "    main(input_number_int)"
   ]
  }
 ],
 "metadata": {
  "kernelspec": {
   "display_name": "Python 3",
   "language": "python",
   "name": "python3"
  },
  "language_info": {
   "codemirror_mode": {
    "name": "ipython",
    "version": 3
   },
   "file_extension": ".py",
   "mimetype": "text/x-python",
   "name": "python",
   "nbconvert_exporter": "python",
   "pygments_lexer": "ipython3",
   "version": "3.13.3"
  }
 },
 "nbformat": 4,
 "nbformat_minor": 5
}
